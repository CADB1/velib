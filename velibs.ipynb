{
 "cells": [
  {
   "cell_type": "code",
   "execution_count": 4,
   "metadata": {
    "collapsed": false
   },
   "outputs": [
    {
     "data": {
      "text/plain": [
       "pyspark.context.SparkContext"
      ]
     },
     "execution_count": 4,
     "metadata": {},
     "output_type": "execute_result"
    }
   ],
   "source": [
    "import requests\n",
    "import pandas as pd\n",
    "import pyspark\n",
    "\n",
    "if not sc:\n",
    "    sc = pyspark.SparkContext()\n",
    "\n",
    "type(sc)"
   ]
  },
  {
   "cell_type": "markdown",
   "metadata": {},
   "source": [
    "# Objectifs :\n",
    "\n",
    "   - construire un dataframe pandas qui regroupe l'ensemble des données que sur lesquelles on veut lancer notre apprentissage\n",
    "     - données statiques additionnelles à ajouter:\n",
    "        1 coefficient d'isolation (nombre de stations accessible depuis la station dans un rayon donné raisonnable 5km ?)\n",
    "        associer la station météo la plus proche de la station vélib\n",
    "        \n",
    "$e^{i\\pi} + 1 = 0$\n",
    "\n",
    "$$e^x=\\sum_{i=0}^\\infty \\frac{1}{i!}x^i$$\n",
    "       \n",
    "\n"
   ]
  },
  {
   "cell_type": "markdown",
   "metadata": {},
   "source": [
    "# recupération des stations velibs de paris"
   ]
  },
  {
   "cell_type": "code",
   "execution_count": 21,
   "metadata": {
    "collapsed": false
   },
   "outputs": [],
   "source": [
    "urlParisStations = \"https://api.jcdecaux.com/vls/v1/stations\"\n",
    "jcdKey = \"c7c379f39e07e619be9663cfce805b8b266dce1a\"\n",
    "# https://api.jcdecaux.com/vls/v1/stations?contract={contract_name} \n",
    "stations_json = requests.get(url = urlParisStations, params={\"contract\":\"Paris\",\"apiKey\":jcdKey}).text\n"
   ]
  },
  {
   "cell_type": "code",
   "execution_count": 24,
   "metadata": {
    "collapsed": false
   },
   "outputs": [
    {
     "data": {
      "text/html": [
       "<div>\n",
       "<table border=\"1\" class=\"dataframe\">\n",
       "  <thead>\n",
       "    <tr style=\"text-align: right;\">\n",
       "      <th></th>\n",
       "      <th>address</th>\n",
       "      <th>available_bike_stands</th>\n",
       "      <th>available_bikes</th>\n",
       "      <th>banking</th>\n",
       "      <th>bike_stands</th>\n",
       "      <th>bonus</th>\n",
       "      <th>last_update</th>\n",
       "      <th>name</th>\n",
       "      <th>position</th>\n",
       "      <th>status</th>\n",
       "    </tr>\n",
       "    <tr>\n",
       "      <th>number</th>\n",
       "      <th></th>\n",
       "      <th></th>\n",
       "      <th></th>\n",
       "      <th></th>\n",
       "      <th></th>\n",
       "      <th></th>\n",
       "      <th></th>\n",
       "      <th></th>\n",
       "      <th></th>\n",
       "      <th></th>\n",
       "    </tr>\n",
       "  </thead>\n",
       "  <tbody>\n",
       "    <tr>\n",
       "      <th>31705</th>\n",
       "      <td>RUE DES CHAMPEAUX (PRES DE LA GARE ROUTIERE) -...</td>\n",
       "      <td>48</td>\n",
       "      <td>2</td>\n",
       "      <td>True</td>\n",
       "      <td>50</td>\n",
       "      <td>True</td>\n",
       "      <td>1489489741000</td>\n",
       "      <td>31705 - CHAMPEAUX (BAGNOLET)</td>\n",
       "      <td>{'lat': 48.8645278209514, 'lng': 2.41617072442...</td>\n",
       "      <td>OPEN</td>\n",
       "    </tr>\n",
       "    <tr>\n",
       "      <th>10042</th>\n",
       "      <td>52 RUE D'ENGHIEN / ANGLE RUE DU FAUBOURG POISS...</td>\n",
       "      <td>0</td>\n",
       "      <td>33</td>\n",
       "      <td>True</td>\n",
       "      <td>33</td>\n",
       "      <td>False</td>\n",
       "      <td>1489489649000</td>\n",
       "      <td>10042 - POISSONNIÈRE - ENGHIEN</td>\n",
       "      <td>{'lat': 48.87242006305313, 'lng': 2.3483952362...</td>\n",
       "      <td>OPEN</td>\n",
       "    </tr>\n",
       "    <tr>\n",
       "      <th>8020</th>\n",
       "      <td>74 BOULEVARD DES BATIGNOLLES - 75008 PARIS</td>\n",
       "      <td>32</td>\n",
       "      <td>12</td>\n",
       "      <td>True</td>\n",
       "      <td>44</td>\n",
       "      <td>True</td>\n",
       "      <td>1489489725000</td>\n",
       "      <td>08020 - METRO ROME</td>\n",
       "      <td>{'lat': 48.882148945631904, 'lng': 2.319860054...</td>\n",
       "      <td>OPEN</td>\n",
       "    </tr>\n",
       "    <tr>\n",
       "      <th>1022</th>\n",
       "      <td>37 RUE CASANOVA - 75001 PARIS</td>\n",
       "      <td>1</td>\n",
       "      <td>36</td>\n",
       "      <td>True</td>\n",
       "      <td>37</td>\n",
       "      <td>False</td>\n",
       "      <td>1489489512000</td>\n",
       "      <td>01022 - RUE DE LA PAIX</td>\n",
       "      <td>{'lat': 48.8682170167744, 'lng': 2.33049351139...</td>\n",
       "      <td>OPEN</td>\n",
       "    </tr>\n",
       "    <tr>\n",
       "      <th>35014</th>\n",
       "      <td>139 AVENUE JEAN LOLIVE / MAIL CHARLES DE GAULL...</td>\n",
       "      <td>0</td>\n",
       "      <td>18</td>\n",
       "      <td>True</td>\n",
       "      <td>25</td>\n",
       "      <td>False</td>\n",
       "      <td>1489489725000</td>\n",
       "      <td>35014 - DE GAULLE (PANTIN)</td>\n",
       "      <td>{'lat': 48.893268664697416, 'lng': 2.412715733...</td>\n",
       "      <td>OPEN</td>\n",
       "    </tr>\n",
       "  </tbody>\n",
       "</table>\n",
       "</div>"
      ],
      "text/plain": [
       "                                                  address  \\\n",
       "number                                                      \n",
       "31705   RUE DES CHAMPEAUX (PRES DE LA GARE ROUTIERE) -...   \n",
       "10042   52 RUE D'ENGHIEN / ANGLE RUE DU FAUBOURG POISS...   \n",
       "8020           74 BOULEVARD DES BATIGNOLLES - 75008 PARIS   \n",
       "1022                        37 RUE CASANOVA - 75001 PARIS   \n",
       "35014   139 AVENUE JEAN LOLIVE / MAIL CHARLES DE GAULL...   \n",
       "\n",
       "        available_bike_stands  available_bikes banking  bike_stands  bonus  \\\n",
       "number                                                                       \n",
       "31705                      48                2    True           50   True   \n",
       "10042                       0               33    True           33  False   \n",
       "8020                       32               12    True           44   True   \n",
       "1022                        1               36    True           37  False   \n",
       "35014                       0               18    True           25  False   \n",
       "\n",
       "          last_update                            name  \\\n",
       "number                                                  \n",
       "31705   1489489741000    31705 - CHAMPEAUX (BAGNOLET)   \n",
       "10042   1489489649000  10042 - POISSONNIÈRE - ENGHIEN   \n",
       "8020    1489489725000              08020 - METRO ROME   \n",
       "1022    1489489512000          01022 - RUE DE LA PAIX   \n",
       "35014   1489489725000      35014 - DE GAULLE (PANTIN)   \n",
       "\n",
       "                                                 position status  \n",
       "number                                                            \n",
       "31705   {'lat': 48.8645278209514, 'lng': 2.41617072442...   OPEN  \n",
       "10042   {'lat': 48.87242006305313, 'lng': 2.3483952362...   OPEN  \n",
       "8020    {'lat': 48.882148945631904, 'lng': 2.319860054...   OPEN  \n",
       "1022    {'lat': 48.8682170167744, 'lng': 2.33049351139...   OPEN  \n",
       "35014   {'lat': 48.893268664697416, 'lng': 2.412715733...   OPEN  "
      ]
     },
     "execution_count": 24,
     "metadata": {},
     "output_type": "execute_result"
    }
   ],
   "source": [
    "df_stations = pd.read_json(stations_json,precise_float=True)\\\n",
    "                .drop(\"contract_name\",axis=1)\\\n",
    "                .set_index(\"number\")\n",
    "df_stations.head()"
   ]
  },
  {
   "cell_type": "markdown",
   "metadata": {},
   "source": [
    "# Récupération des stations météo de paris et alentours\n",
    "\n",
    "source openWeather api:\n",
    "\n",
    "https://api.openweathermap.org/data/2.5/weather?q={city name}\n",
    "\n",
    "https://api.openweathermap.org/data/2.5/weather?q={city name},{country code}\n",
    "\n",
    "https://api.openweathermap.org/data/2.5/weather?lat={lat}&lon={lon}\n",
    "\n",
    "apiKey : 679875fddff53d1517c9f4acda29535e"
   ]
  },
  {
   "cell_type": "code",
   "execution_count": 54,
   "metadata": {
    "collapsed": false
   },
   "outputs": [
    {
     "data": {
      "text/plain": [
       "{'lat': 48.8645278209514, 'lng': 2.416170724425901}"
      ]
     },
     "execution_count": 54,
     "metadata": {},
     "output_type": "execute_result"
    }
   ],
   "source": [
    "first_station = df_stations.head(1).position.values[0]\n",
    "first_station"
   ]
  },
  {
   "cell_type": "code",
   "execution_count": 69,
   "metadata": {
    "collapsed": false
   },
   "outputs": [
    {
     "data": {
      "text/plain": [
       "number\n",
       "31705    {'lat': 48.8645278209514, 'lng': 2.41617072442...\n",
       "10042    {'lat': 48.87242006305313, 'lng': 2.3483952362...\n",
       "8020     {'lat': 48.882148945631904, 'lng': 2.319860054...\n",
       "1022     {'lat': 48.8682170167744, 'lng': 2.33049351139...\n",
       "35014    {'lat': 48.893268664697416, 'lng': 2.412715733...\n",
       "20040    {'lat': 48.870393671603765, 'lng': 2.384222472...\n",
       "28002                {'lat': 48.884478, 'lng': 2.24772065}\n",
       "15111    {'lat': 48.834658862792736, 'lng': 2.295789480...\n",
       "12124    {'lat': 48.839041145908176, 'lng': 2.437655339...\n",
       "9021     {'lat': 48.877872278317966, 'lng': 2.337446804...\n",
       "7007     {'lat': 48.85971010443503, 'lng': 2.3258090246...\n",
       "20011    {'lat': 48.85550135398888, 'lng': 2.4051685206...\n",
       "33006    {'lat': 48.9101436710038, 'lng': 2.38505201824...\n",
       "5005     {'lat': 48.844730256132095, 'lng': 2.341923944...\n",
       "11029    {'lat': 48.8666176586814, 'lng': 2.38301344041...\n",
       "4020     {'lat': 48.86008832610481, 'lng': 2.3501483359...\n",
       "7012     {'lat': 48.854268334051035, 'lng': 2.319454010...\n",
       "19019    {'lat': 48.886389634924626, 'lng': 2.393637514...\n",
       "14113    {'lat': 48.83512886504287, 'lng': 2.3415786345...\n",
       "15028    {'lat': 48.851396721123486, 'lng': 2.291889313...\n",
       "22005    {'lat': 48.8842989293728, 'lng': 2.26099177209...\n",
       "20027    {'lat': 48.8691543609174, 'lng': 2.40932246879...\n",
       "18042    {'lat': 48.882728090545086, 'lng': 2.336262639...\n",
       "11008    {'lat': 48.850379753879935, 'lng': 2.383869335...\n",
       "1028                 {'lat': 48.8622255, 'lng': 2.3428337}\n",
       "19038    {'lat': 48.8755503947562, 'lng': 2.38903816084...\n",
       "13037    {'lat': 48.824695995415006, 'lng': 2.363106073...\n",
       "13040    {'lat': 48.819941965677195, 'lng': 2.365078586...\n",
       "16027    {'lat': 48.85286124871689, 'lng': 2.2684835706...\n",
       "15118    {'lat': 48.84319882807092, 'lng': 2.3222573772...\n",
       "                               ...                        \n",
       "15110    {'lat': 48.83621036148383, 'lng': 2.2810393810...\n",
       "16122    {'lat': 48.880079643111614, 'lng': 2.258576589...\n",
       "7020     {'lat': 48.85664110011817, 'lng': 2.3065985341...\n",
       "41605    {'lat': 48.83608867952291, 'lng': 2.4189075947...\n",
       "16124    {'lat': 48.875095937895146, 'lng': 2.249216987...\n",
       "15123    {'lat': 48.8479921934615, 'lng': 2.29668168569...\n",
       "5106     {'lat': 48.84819134858432, 'lng': 2.3418316548...\n",
       "22001    {'lat': 48.89051191347665, 'lng': 2.2701672252...\n",
       "12039    {'lat': 48.83481262982544, 'lng': 2.4009277881...\n",
       "1008                  {'lat': 48.863575, 'lng': 2.3426385}\n",
       "31006    {'lat': 48.85375961633593, 'lng': 2.4244458080...\n",
       "16037    {'lat': 48.845182081538034, 'lng': 2.262112773...\n",
       "2007     {'lat': 48.867123446448645, 'lng': 2.336686608...\n",
       "5110     {'lat': 48.843860353248765, 'lng': 2.351902225...\n",
       "12011    {'lat': 48.84486731955409, 'lng': 2.3825789350...\n",
       "10151    {'lat': 48.87963935299516, 'lng': 2.3569049584...\n",
       "16021    {'lat': 48.858427696615, 'lng': 2.274308524144...\n",
       "15050                    {'lat': 48.83656, 'lng': 2.28976}\n",
       "20503    {'lat': 48.847724968984686, 'lng': 2.405907317...\n",
       "31709    {'lat': 48.857050394743816, 'lng': 2.422549956...\n",
       "13110    {'lat': 48.821039286989794, 'lng': 2.356345144...\n",
       "21503    {'lat': 48.870920487633555, 'lng': 2.229589352...\n",
       "1017     {'lat': 48.86557114282421, 'lng': 2.3305674175...\n",
       "17006    {'lat': 48.8920640862454, 'lng': 2.32329134120...\n",
       "7006     {'lat': 48.85894298617901, 'lng': 2.3314182047...\n",
       "8041     {'lat': 48.87069015790859, 'lng': 2.3032224239...\n",
       "21311    {'lat': 48.827470501735846, 'lng': 2.278549600...\n",
       "19121    {'lat': 48.875518068648745, 'lng': 2.392960787...\n",
       "1020     {'lat': 48.866285221156055, 'lng': 2.325249045...\n",
       "10007    {'lat': 48.87242997325711, 'lng': 2.3554893901...\n",
       "Name: position, dtype: object"
      ]
     },
     "execution_count": 69,
     "metadata": {},
     "output_type": "execute_result"
    }
   ],
   "source": [
    "df_stations.\n",
    "#pd.DataFrame(index=df_stations.index.values(),data=df_stations.position.values()['lat'])"
   ]
  }
 ],
 "metadata": {
  "kernelspec": {
   "display_name": "Python 3",
   "language": "python",
   "name": "python3"
  },
  "language_info": {
   "codemirror_mode": {
    "name": "ipython",
    "version": 3
   },
   "file_extension": ".py",
   "mimetype": "text/x-python",
   "name": "python",
   "nbconvert_exporter": "python",
   "pygments_lexer": "ipython3",
   "version": "3.5.2"
  }
 },
 "nbformat": 4,
 "nbformat_minor": 2
}
