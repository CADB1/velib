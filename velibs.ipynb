{
 "cells": [
  {
   "cell_type": "code",
   "execution_count": 1,
   "metadata": {
    "collapsed": false,
    "deletable": true,
    "editable": true
   },
   "outputs": [
    {
     "data": {
      "text/plain": [
       "pyspark.context.SparkContext"
      ]
     },
     "execution_count": 1,
     "metadata": {},
     "output_type": "execute_result"
    }
   ],
   "source": [
    "import requests\n",
    "import pandas as pd\n",
    "import pyspark\n",
    "from pprint import pprint\n",
    "\n",
    "#if not sc:\n",
    "sc = pyspark.SparkContext()\n",
    "\n",
    "type(sc)"
   ]
  },
  {
   "cell_type": "markdown",
   "metadata": {
    "deletable": true,
    "editable": true
   },
   "source": [
    "# Objectifs :\n",
    "\n",
    "   - construire un dataframe pandas qui regroupe l'ensemble des données que sur lesquelles on veut lancer notre apprentissage\n",
    "     - données statiques additionnelles à ajouter:\n",
    "        1 coefficient d'isolation (nombre de stations accessible depuis la station dans un rayon donné raisonnable 5km ?)\n",
    "        associer la station météo la plus proche de la station vélib\n",
    "        \n",
    "$e^{i\\pi} + 1 = 0$\n",
    "\n",
    "$$e^x=\\sum_{i=0}^\\infty \\frac{1}{i!}x^i$$\n",
    "       \n",
    "\n"
   ]
  },
  {
   "cell_type": "markdown",
   "metadata": {
    "deletable": true,
    "editable": true
   },
   "source": [
    "# recupération des stations velibs de paris"
   ]
  },
  {
   "cell_type": "code",
   "execution_count": 2,
   "metadata": {
    "collapsed": false,
    "deletable": true,
    "editable": true
   },
   "outputs": [],
   "source": [
    "urlParisStations = \"https://api.jcdecaux.com/vls/v1/stations\"\n",
    "jcdKey = \"c7c379f39e07e619be9663cfce805b8b266dce1a\"\n",
    "# https://api.jcdecaux.com/vls/v1/stations?contract={contract_name} \n",
    "stations_json = requests.get(url = urlParisStations, params={\"contract\":\"Paris\",\"apiKey\":jcdKey}).text\n"
   ]
  },
  {
   "cell_type": "code",
   "execution_count": 3,
   "metadata": {
    "collapsed": false,
    "deletable": true,
    "editable": true
   },
   "outputs": [
    {
     "data": {
      "text/html": [
       "<div>\n",
       "<table border=\"1\" class=\"dataframe\">\n",
       "  <thead>\n",
       "    <tr style=\"text-align: right;\">\n",
       "      <th></th>\n",
       "      <th>address</th>\n",
       "      <th>available_bike_stands</th>\n",
       "      <th>available_bikes</th>\n",
       "      <th>banking</th>\n",
       "      <th>bike_stands</th>\n",
       "      <th>bonus</th>\n",
       "      <th>last_update</th>\n",
       "      <th>name</th>\n",
       "      <th>position</th>\n",
       "      <th>status</th>\n",
       "    </tr>\n",
       "    <tr>\n",
       "      <th>number</th>\n",
       "      <th></th>\n",
       "      <th></th>\n",
       "      <th></th>\n",
       "      <th></th>\n",
       "      <th></th>\n",
       "      <th></th>\n",
       "      <th></th>\n",
       "      <th></th>\n",
       "      <th></th>\n",
       "      <th></th>\n",
       "    </tr>\n",
       "  </thead>\n",
       "  <tbody>\n",
       "    <tr>\n",
       "      <th>31705</th>\n",
       "      <td>RUE DES CHAMPEAUX (PRES DE LA GARE ROUTIERE) -...</td>\n",
       "      <td>49</td>\n",
       "      <td>1</td>\n",
       "      <td>True</td>\n",
       "      <td>50</td>\n",
       "      <td>True</td>\n",
       "      <td>1489521712000</td>\n",
       "      <td>31705 - CHAMPEAUX (BAGNOLET)</td>\n",
       "      <td>{'lat': 48.8645278209514, 'lng': 2.41617072442...</td>\n",
       "      <td>OPEN</td>\n",
       "    </tr>\n",
       "    <tr>\n",
       "      <th>10042</th>\n",
       "      <td>52 RUE D'ENGHIEN / ANGLE RUE DU FAUBOURG POISS...</td>\n",
       "      <td>0</td>\n",
       "      <td>33</td>\n",
       "      <td>True</td>\n",
       "      <td>33</td>\n",
       "      <td>False</td>\n",
       "      <td>1489521613000</td>\n",
       "      <td>10042 - POISSONNIÈRE - ENGHIEN</td>\n",
       "      <td>{'lat': 48.87242006305313, 'lng': 2.3483952362...</td>\n",
       "      <td>OPEN</td>\n",
       "    </tr>\n",
       "    <tr>\n",
       "      <th>8020</th>\n",
       "      <td>74 BOULEVARD DES BATIGNOLLES - 75008 PARIS</td>\n",
       "      <td>40</td>\n",
       "      <td>4</td>\n",
       "      <td>True</td>\n",
       "      <td>44</td>\n",
       "      <td>True</td>\n",
       "      <td>1489521695000</td>\n",
       "      <td>08020 - METRO ROME</td>\n",
       "      <td>{'lat': 48.882148945631904, 'lng': 2.319860054...</td>\n",
       "      <td>OPEN</td>\n",
       "    </tr>\n",
       "    <tr>\n",
       "      <th>1022</th>\n",
       "      <td>37 RUE CASANOVA - 75001 PARIS</td>\n",
       "      <td>36</td>\n",
       "      <td>1</td>\n",
       "      <td>True</td>\n",
       "      <td>37</td>\n",
       "      <td>False</td>\n",
       "      <td>1489521741000</td>\n",
       "      <td>01022 - RUE DE LA PAIX</td>\n",
       "      <td>{'lat': 48.8682170167744, 'lng': 2.33049351139...</td>\n",
       "      <td>OPEN</td>\n",
       "    </tr>\n",
       "    <tr>\n",
       "      <th>35014</th>\n",
       "      <td>139 AVENUE JEAN LOLIVE / MAIL CHARLES DE GAULL...</td>\n",
       "      <td>8</td>\n",
       "      <td>10</td>\n",
       "      <td>True</td>\n",
       "      <td>25</td>\n",
       "      <td>False</td>\n",
       "      <td>1489521796000</td>\n",
       "      <td>35014 - DE GAULLE (PANTIN)</td>\n",
       "      <td>{'lat': 48.893268664697416, 'lng': 2.412715733...</td>\n",
       "      <td>OPEN</td>\n",
       "    </tr>\n",
       "  </tbody>\n",
       "</table>\n",
       "</div>"
      ],
      "text/plain": [
       "                                                  address  \\\n",
       "number                                                      \n",
       "31705   RUE DES CHAMPEAUX (PRES DE LA GARE ROUTIERE) -...   \n",
       "10042   52 RUE D'ENGHIEN / ANGLE RUE DU FAUBOURG POISS...   \n",
       "8020           74 BOULEVARD DES BATIGNOLLES - 75008 PARIS   \n",
       "1022                        37 RUE CASANOVA - 75001 PARIS   \n",
       "35014   139 AVENUE JEAN LOLIVE / MAIL CHARLES DE GAULL...   \n",
       "\n",
       "        available_bike_stands  available_bikes banking  bike_stands  bonus  \\\n",
       "number                                                                       \n",
       "31705                      49                1    True           50   True   \n",
       "10042                       0               33    True           33  False   \n",
       "8020                       40                4    True           44   True   \n",
       "1022                       36                1    True           37  False   \n",
       "35014                       8               10    True           25  False   \n",
       "\n",
       "          last_update                            name  \\\n",
       "number                                                  \n",
       "31705   1489521712000    31705 - CHAMPEAUX (BAGNOLET)   \n",
       "10042   1489521613000  10042 - POISSONNIÈRE - ENGHIEN   \n",
       "8020    1489521695000              08020 - METRO ROME   \n",
       "1022    1489521741000          01022 - RUE DE LA PAIX   \n",
       "35014   1489521796000      35014 - DE GAULLE (PANTIN)   \n",
       "\n",
       "                                                 position status  \n",
       "number                                                            \n",
       "31705   {'lat': 48.8645278209514, 'lng': 2.41617072442...   OPEN  \n",
       "10042   {'lat': 48.87242006305313, 'lng': 2.3483952362...   OPEN  \n",
       "8020    {'lat': 48.882148945631904, 'lng': 2.319860054...   OPEN  \n",
       "1022    {'lat': 48.8682170167744, 'lng': 2.33049351139...   OPEN  \n",
       "35014   {'lat': 48.893268664697416, 'lng': 2.412715733...   OPEN  "
      ]
     },
     "execution_count": 3,
     "metadata": {},
     "output_type": "execute_result"
    }
   ],
   "source": [
    "df_stations = pd.read_json(stations_json,precise_float=True)\\\n",
    "                .drop(\"contract_name\",axis=1)\\\n",
    "                .set_index(\"number\")\n",
    "df_stations.head()"
   ]
  },
  {
   "cell_type": "markdown",
   "metadata": {
    "deletable": true,
    "editable": true
   },
   "source": [
    "# Récupération des stations météo de paris et alentours\n",
    "\n",
    "source openWeather api:\n",
    "\n",
    "http://api.openweathermap.org/data/2.5/weather?q={city name}\n",
    "\n",
    "http://api.openweathermap.org/data/2.5/weather?q={city name},{country code}\n",
    "\n",
    "http://api.openweathermap.org/data/2.5/weather?lat={lat}&lon={lon}\n",
    "\n",
    "APPID : 679875fddff53d1517c9f4acda29535e"
   ]
  },
  {
   "cell_type": "code",
   "execution_count": 4,
   "metadata": {
    "collapsed": false,
    "deletable": true,
    "editable": true
   },
   "outputs": [
    {
     "data": {
      "text/plain": [
       "{'lat': 48.8645278209514, 'lng': 2.416170724425901}"
      ]
     },
     "execution_count": 4,
     "metadata": {},
     "output_type": "execute_result"
    }
   ],
   "source": [
    "first_station = df_stations.head(1).position.values[0]\n",
    "first_station"
   ]
  },
  {
   "cell_type": "markdown",
   "metadata": {
    "deletable": true,
    "editable": true
   },
   "source": [
    "eclater la colonne postion qui contient la latitude et la longitude en 2 colonnes lat et lng\n",
    "\n",
    "df_stations contient les coordonnées à plat"
   ]
  },
  {
   "cell_type": "code",
   "execution_count": 5,
   "metadata": {
    "collapsed": false,
    "deletable": true,
    "editable": true
   },
   "outputs": [],
   "source": [
    "\n",
    "dfs = [df_stations.drop('position',axis=1),df_stations[\"position\"].apply(pd.Series)]\n",
    "df_stations = pd.concat(dfs,axis=1)\n",
    "\n"
   ]
  },
  {
   "cell_type": "code",
   "execution_count": 6,
   "metadata": {
    "collapsed": false,
    "deletable": true,
    "editable": true
   },
   "outputs": [
    {
     "data": {
      "text/html": [
       "<div>\n",
       "<table border=\"1\" class=\"dataframe\">\n",
       "  <thead>\n",
       "    <tr style=\"text-align: right;\">\n",
       "      <th></th>\n",
       "      <th>address</th>\n",
       "      <th>available_bike_stands</th>\n",
       "      <th>available_bikes</th>\n",
       "      <th>banking</th>\n",
       "      <th>bike_stands</th>\n",
       "      <th>bonus</th>\n",
       "      <th>last_update</th>\n",
       "      <th>name</th>\n",
       "      <th>status</th>\n",
       "      <th>lat</th>\n",
       "      <th>lng</th>\n",
       "    </tr>\n",
       "    <tr>\n",
       "      <th>number</th>\n",
       "      <th></th>\n",
       "      <th></th>\n",
       "      <th></th>\n",
       "      <th></th>\n",
       "      <th></th>\n",
       "      <th></th>\n",
       "      <th></th>\n",
       "      <th></th>\n",
       "      <th></th>\n",
       "      <th></th>\n",
       "      <th></th>\n",
       "    </tr>\n",
       "  </thead>\n",
       "  <tbody>\n",
       "    <tr>\n",
       "      <th>31705</th>\n",
       "      <td>RUE DES CHAMPEAUX (PRES DE LA GARE ROUTIERE) -...</td>\n",
       "      <td>49</td>\n",
       "      <td>1</td>\n",
       "      <td>True</td>\n",
       "      <td>50</td>\n",
       "      <td>True</td>\n",
       "      <td>1489521712000</td>\n",
       "      <td>31705 - CHAMPEAUX (BAGNOLET)</td>\n",
       "      <td>OPEN</td>\n",
       "      <td>48.864528</td>\n",
       "      <td>2.416171</td>\n",
       "    </tr>\n",
       "    <tr>\n",
       "      <th>10042</th>\n",
       "      <td>52 RUE D'ENGHIEN / ANGLE RUE DU FAUBOURG POISS...</td>\n",
       "      <td>0</td>\n",
       "      <td>33</td>\n",
       "      <td>True</td>\n",
       "      <td>33</td>\n",
       "      <td>False</td>\n",
       "      <td>1489521613000</td>\n",
       "      <td>10042 - POISSONNIÈRE - ENGHIEN</td>\n",
       "      <td>OPEN</td>\n",
       "      <td>48.872420</td>\n",
       "      <td>2.348395</td>\n",
       "    </tr>\n",
       "    <tr>\n",
       "      <th>8020</th>\n",
       "      <td>74 BOULEVARD DES BATIGNOLLES - 75008 PARIS</td>\n",
       "      <td>40</td>\n",
       "      <td>4</td>\n",
       "      <td>True</td>\n",
       "      <td>44</td>\n",
       "      <td>True</td>\n",
       "      <td>1489521695000</td>\n",
       "      <td>08020 - METRO ROME</td>\n",
       "      <td>OPEN</td>\n",
       "      <td>48.882149</td>\n",
       "      <td>2.319860</td>\n",
       "    </tr>\n",
       "    <tr>\n",
       "      <th>1022</th>\n",
       "      <td>37 RUE CASANOVA - 75001 PARIS</td>\n",
       "      <td>36</td>\n",
       "      <td>1</td>\n",
       "      <td>True</td>\n",
       "      <td>37</td>\n",
       "      <td>False</td>\n",
       "      <td>1489521741000</td>\n",
       "      <td>01022 - RUE DE LA PAIX</td>\n",
       "      <td>OPEN</td>\n",
       "      <td>48.868217</td>\n",
       "      <td>2.330494</td>\n",
       "    </tr>\n",
       "    <tr>\n",
       "      <th>35014</th>\n",
       "      <td>139 AVENUE JEAN LOLIVE / MAIL CHARLES DE GAULL...</td>\n",
       "      <td>8</td>\n",
       "      <td>10</td>\n",
       "      <td>True</td>\n",
       "      <td>25</td>\n",
       "      <td>False</td>\n",
       "      <td>1489521796000</td>\n",
       "      <td>35014 - DE GAULLE (PANTIN)</td>\n",
       "      <td>OPEN</td>\n",
       "      <td>48.893269</td>\n",
       "      <td>2.412716</td>\n",
       "    </tr>\n",
       "  </tbody>\n",
       "</table>\n",
       "</div>"
      ],
      "text/plain": [
       "                                                  address  \\\n",
       "number                                                      \n",
       "31705   RUE DES CHAMPEAUX (PRES DE LA GARE ROUTIERE) -...   \n",
       "10042   52 RUE D'ENGHIEN / ANGLE RUE DU FAUBOURG POISS...   \n",
       "8020           74 BOULEVARD DES BATIGNOLLES - 75008 PARIS   \n",
       "1022                        37 RUE CASANOVA - 75001 PARIS   \n",
       "35014   139 AVENUE JEAN LOLIVE / MAIL CHARLES DE GAULL...   \n",
       "\n",
       "        available_bike_stands  available_bikes banking  bike_stands  bonus  \\\n",
       "number                                                                       \n",
       "31705                      49                1    True           50   True   \n",
       "10042                       0               33    True           33  False   \n",
       "8020                       40                4    True           44   True   \n",
       "1022                       36                1    True           37  False   \n",
       "35014                       8               10    True           25  False   \n",
       "\n",
       "          last_update                            name status        lat  \\\n",
       "number                                                                    \n",
       "31705   1489521712000    31705 - CHAMPEAUX (BAGNOLET)   OPEN  48.864528   \n",
       "10042   1489521613000  10042 - POISSONNIÈRE - ENGHIEN   OPEN  48.872420   \n",
       "8020    1489521695000              08020 - METRO ROME   OPEN  48.882149   \n",
       "1022    1489521741000          01022 - RUE DE LA PAIX   OPEN  48.868217   \n",
       "35014   1489521796000      35014 - DE GAULLE (PANTIN)   OPEN  48.893269   \n",
       "\n",
       "             lng  \n",
       "number            \n",
       "31705   2.416171  \n",
       "10042   2.348395  \n",
       "8020    2.319860  \n",
       "1022    2.330494  \n",
       "35014   2.412716  "
      ]
     },
     "execution_count": 6,
     "metadata": {},
     "output_type": "execute_result"
    }
   ],
   "source": [
    "df_stations.head()"
   ]
  },
  {
   "cell_type": "markdown",
   "metadata": {
    "deletable": true,
    "editable": true
   },
   "source": [
    "associer la station météo de chez openweathermap qui correspond à la stations vélib par geolocalisation (cityId)\n",
    "\n",
    "http://api.openweathermap.org/data/2.5/weather?lat={lat}&lon={lon}\n",
    "\n",
    "\n",
    "APPID  : 679875fddff53d1517c9f4acda29535e\n",
    "\n"
   ]
  },
  {
   "cell_type": "code",
   "execution_count": 7,
   "metadata": {
    "collapsed": false,
    "deletable": true,
    "editable": true
   },
   "outputs": [],
   "source": [
    "owmUrl = \"http://api.openweathermap.org/data/2.5/weather\"\n",
    "appid=\"679875fddff53d1517c9f4acda29535e\" \n",
    "#resp = requests.get(url=owmUrl,params={\"APPID\":appid,\"lat\":48.864528,\"lon\":2.416171})\n",
    "\n",
    "\n",
    "def cityIdSerie(velib):\n",
    "    return requests.get(url=owmUrl,params={\"APPID\":appid,\"lat\":velib.lat,\"lon\":velib.lng}).json()[\"id\"]\n",
    "    \n",
    "city_ids = df_stations.apply(cityIdSerie,axis=1)\n",
    "\n"
   ]
  },
  {
   "cell_type": "code",
   "execution_count": 8,
   "metadata": {
    "collapsed": false,
    "deletable": true,
    "editable": true
   },
   "outputs": [],
   "source": [
    "\n",
    "df_cities = pd.DataFrame(data=city_ids,columns=[\"owm_city_id\"])\n",
    "\n",
    "df_stations = pd.merge(left=df_stations,right=df_cities,how=\"left\",left_index=True,right_index=True)\n",
    "\n"
   ]
  },
  {
   "cell_type": "code",
   "execution_count": 9,
   "metadata": {
    "collapsed": false,
    "deletable": true,
    "editable": true
   },
   "outputs": [
    {
     "data": {
      "text/html": [
       "<div>\n",
       "<table border=\"1\" class=\"dataframe\">\n",
       "  <thead>\n",
       "    <tr style=\"text-align: right;\">\n",
       "      <th></th>\n",
       "      <th>address</th>\n",
       "      <th>available_bike_stands</th>\n",
       "      <th>available_bikes</th>\n",
       "      <th>banking</th>\n",
       "      <th>bike_stands</th>\n",
       "      <th>bonus</th>\n",
       "      <th>last_update</th>\n",
       "      <th>name</th>\n",
       "      <th>status</th>\n",
       "      <th>lat</th>\n",
       "      <th>lng</th>\n",
       "      <th>owm_city_id</th>\n",
       "    </tr>\n",
       "    <tr>\n",
       "      <th>number</th>\n",
       "      <th></th>\n",
       "      <th></th>\n",
       "      <th></th>\n",
       "      <th></th>\n",
       "      <th></th>\n",
       "      <th></th>\n",
       "      <th></th>\n",
       "      <th></th>\n",
       "      <th></th>\n",
       "      <th></th>\n",
       "      <th></th>\n",
       "      <th></th>\n",
       "    </tr>\n",
       "  </thead>\n",
       "  <tbody>\n",
       "    <tr>\n",
       "      <th>31705</th>\n",
       "      <td>RUE DES CHAMPEAUX (PRES DE LA GARE ROUTIERE) -...</td>\n",
       "      <td>49</td>\n",
       "      <td>1</td>\n",
       "      <td>True</td>\n",
       "      <td>50</td>\n",
       "      <td>True</td>\n",
       "      <td>1489521712000</td>\n",
       "      <td>31705 - CHAMPEAUX (BAGNOLET)</td>\n",
       "      <td>OPEN</td>\n",
       "      <td>48.864528</td>\n",
       "      <td>2.416171</td>\n",
       "      <td>3035403</td>\n",
       "    </tr>\n",
       "    <tr>\n",
       "      <th>10042</th>\n",
       "      <td>52 RUE D'ENGHIEN / ANGLE RUE DU FAUBOURG POISS...</td>\n",
       "      <td>0</td>\n",
       "      <td>33</td>\n",
       "      <td>True</td>\n",
       "      <td>33</td>\n",
       "      <td>False</td>\n",
       "      <td>1489521613000</td>\n",
       "      <td>10042 - POISSONNIÈRE - ENGHIEN</td>\n",
       "      <td>OPEN</td>\n",
       "      <td>48.872420</td>\n",
       "      <td>2.348395</td>\n",
       "      <td>6545270</td>\n",
       "    </tr>\n",
       "    <tr>\n",
       "      <th>8020</th>\n",
       "      <td>74 BOULEVARD DES BATIGNOLLES - 75008 PARIS</td>\n",
       "      <td>40</td>\n",
       "      <td>4</td>\n",
       "      <td>True</td>\n",
       "      <td>44</td>\n",
       "      <td>True</td>\n",
       "      <td>1489521695000</td>\n",
       "      <td>08020 - METRO ROME</td>\n",
       "      <td>OPEN</td>\n",
       "      <td>48.882149</td>\n",
       "      <td>2.319860</td>\n",
       "      <td>3024597</td>\n",
       "    </tr>\n",
       "    <tr>\n",
       "      <th>1022</th>\n",
       "      <td>37 RUE CASANOVA - 75001 PARIS</td>\n",
       "      <td>36</td>\n",
       "      <td>1</td>\n",
       "      <td>True</td>\n",
       "      <td>37</td>\n",
       "      <td>False</td>\n",
       "      <td>1489521741000</td>\n",
       "      <td>01022 - RUE DE LA PAIX</td>\n",
       "      <td>OPEN</td>\n",
       "      <td>48.868217</td>\n",
       "      <td>2.330494</td>\n",
       "      <td>6545270</td>\n",
       "    </tr>\n",
       "    <tr>\n",
       "      <th>35014</th>\n",
       "      <td>139 AVENUE JEAN LOLIVE / MAIL CHARLES DE GAULL...</td>\n",
       "      <td>8</td>\n",
       "      <td>10</td>\n",
       "      <td>True</td>\n",
       "      <td>25</td>\n",
       "      <td>False</td>\n",
       "      <td>1489521796000</td>\n",
       "      <td>35014 - DE GAULLE (PANTIN)</td>\n",
       "      <td>OPEN</td>\n",
       "      <td>48.893269</td>\n",
       "      <td>2.412716</td>\n",
       "      <td>2988621</td>\n",
       "    </tr>\n",
       "  </tbody>\n",
       "</table>\n",
       "</div>"
      ],
      "text/plain": [
       "                                                  address  \\\n",
       "number                                                      \n",
       "31705   RUE DES CHAMPEAUX (PRES DE LA GARE ROUTIERE) -...   \n",
       "10042   52 RUE D'ENGHIEN / ANGLE RUE DU FAUBOURG POISS...   \n",
       "8020           74 BOULEVARD DES BATIGNOLLES - 75008 PARIS   \n",
       "1022                        37 RUE CASANOVA - 75001 PARIS   \n",
       "35014   139 AVENUE JEAN LOLIVE / MAIL CHARLES DE GAULL...   \n",
       "\n",
       "        available_bike_stands  available_bikes banking  bike_stands  bonus  \\\n",
       "number                                                                       \n",
       "31705                      49                1    True           50   True   \n",
       "10042                       0               33    True           33  False   \n",
       "8020                       40                4    True           44   True   \n",
       "1022                       36                1    True           37  False   \n",
       "35014                       8               10    True           25  False   \n",
       "\n",
       "          last_update                            name status        lat  \\\n",
       "number                                                                    \n",
       "31705   1489521712000    31705 - CHAMPEAUX (BAGNOLET)   OPEN  48.864528   \n",
       "10042   1489521613000  10042 - POISSONNIÈRE - ENGHIEN   OPEN  48.872420   \n",
       "8020    1489521695000              08020 - METRO ROME   OPEN  48.882149   \n",
       "1022    1489521741000          01022 - RUE DE LA PAIX   OPEN  48.868217   \n",
       "35014   1489521796000      35014 - DE GAULLE (PANTIN)   OPEN  48.893269   \n",
       "\n",
       "             lng  owm_city_id  \n",
       "number                         \n",
       "31705   2.416171      3035403  \n",
       "10042   2.348395      6545270  \n",
       "8020    2.319860      3024597  \n",
       "1022    2.330494      6545270  \n",
       "35014   2.412716      2988621  "
      ]
     },
     "execution_count": 9,
     "metadata": {},
     "output_type": "execute_result"
    }
   ],
   "source": [
    "df_stations.head()"
   ]
  },
  {
   "cell_type": "code",
   "execution_count": 11,
   "metadata": {
    "collapsed": false,
    "deletable": true,
    "editable": true
   },
   "outputs": [
    {
     "data": {
      "text/plain": [
       "53"
      ]
     },
     "execution_count": 11,
     "metadata": {},
     "output_type": "execute_result"
    }
   ],
   "source": [
    "len(df_stations[\"owm_city_id\"].unique())"
   ]
  },
  {
   "cell_type": "code",
   "execution_count": 13,
   "metadata": {
    "collapsed": true
   },
   "outputs": [],
   "source": [
    "df_stations.to_csv(\"/home/jovyan/work/df_stations.csv\")"
   ]
  },
  {
   "cell_type": "markdown",
   "metadata": {},
   "source": [
    "   # calcul du coefficient d'isolation de chaque station\n",
    "   \n",
    "\n",
    "    import pandas as pd\n",
    "    def isolationFactor(geoPoint,radius):\n",
    "       ''' retourne le nombre de stations vélib dans un rayon de radius autour du centre geoPoint '''\n"
   ]
  },
  {
   "cell_type": "code",
   "execution_count": 88,
   "metadata": {
    "collapsed": false
   },
   "outputs": [
    {
     "name": "stdout",
     "output_type": "stream",
     "text": [
      "308\n"
     ]
    }
   ],
   "source": [
    "from geopy.distance import vincenty\n",
    "from geopy.point import Point\n",
    " \n",
    "\n",
    "station = {\"lat\":48.864528,\"lng\":2.416171}    \n",
    "\n",
    "distances = df_stations[[\"lat\",\"lng\"]].apply(lambda row: vincenty((station['lat'],station['lng']),(row.lat,row.lng)).km,axis=1) <4\n",
    "\n",
    "print(len(df_stations[distances])-1)\n",
    "\n",
    "\n",
    "\n",
    "            "
   ]
  },
  {
   "cell_type": "code",
   "execution_count": null,
   "metadata": {
    "collapsed": false
   },
   "outputs": [],
   "source": [
    "def isolationFactor(station,radius):\n",
    "    distances = df_stations[[\"lat\",\"lng\"]].apply(lambda row: vincenty((station.lat,station.lng),(row.lat,row.lng)).km ,axis=1)\n",
    "    return len( df_stations[distances < radius] ) - 1\n",
    "\n",
    "#res = isolationFactor(df_stations.iloc[1],3)\n",
    "#res\n",
    "\n",
    "df_stations[\"isolation_factor\"] =df_stations.apply(isolationFactor,args=[3],axis=1)      \n",
    "#res = df_stations.head().apply(isolationFactor,args=[3],axis=1)      \n",
    "#res"
   ]
  },
  {
   "cell_type": "code",
   "execution_count": null,
   "metadata": {
    "collapsed": true
   },
   "outputs": [],
   "source": [
    "df_stations.head()\n",
    "df_stations.to_csv(\"/home/jovyan/work/df_stations.csv\")"
   ]
  }
 ],
 "metadata": {
  "kernelspec": {
   "display_name": "Python 3",
   "language": "python",
   "name": "python3"
  },
  "language_info": {
   "codemirror_mode": {
    "name": "ipython",
    "version": 3
   },
   "file_extension": ".py",
   "mimetype": "text/x-python",
   "name": "python",
   "nbconvert_exporter": "python",
   "pygments_lexer": "ipython3",
   "version": "3.5.2"
  }
 },
 "nbformat": 4,
 "nbformat_minor": 2
}
