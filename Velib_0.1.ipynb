{
 "cells": [
  {
   "cell_type": "code",
   "execution_count": 22,
   "metadata": {
    "collapsed": false
   },
   "outputs": [
    {
     "name": "stdout",
     "output_type": "stream",
     "text": [
      "(10114, u'OPEN', 10, 45, u'1489618792000', u'16/03/2017-00:04:35', None)\n",
      "(10114, u'OPEN', 10, 45, u'1489619104000', u'16/03/2017-00:05:35', None)\n",
      "(10114, u'OPEN', 10, 45, u'1489619147000', u'16/03/2017-00:10:35', None)\n",
      "(10114, u'OPEN', 10, 45, u'1489619459000', u'16/03/2017-00:11:35', None)\n",
      "(10114, u'OPEN', 10, 45, u'1489619529000', u'16/03/2017-00:13:35', None)\n",
      "(10114, u'OPEN', 9, 46, u'1489619616000', u'16/03/2017-00:16:35', None)\n",
      "(10114, u'OPEN', 9, 46, u'1489619813000', u'16/03/2017-00:17:35', None)\n",
      "(10114, u'OPEN', 9, 46, u'1489619856000', u'16/03/2017-00:22:35', None)\n",
      "(10114, u'OPEN', 8, 47, u'1489620168000', u'16/03/2017-00:23:35', None)\n",
      "(10114, u'OPEN', 8, 47, u'1489620211000', u'16/03/2017-00:25:36', None)\n"
     ]
    }
   ],
   "source": [
    "import sqlite3\n",
    "\n",
    "\n",
    "bd = sqlite3.connect('velib2.db')\n",
    "\n",
    "c = bd.cursor()\n",
    "c.execute(\"select * from station_dyn where num = 10114 and \\\n",
    "db_write_time >= ('16/03/2017') and db_write_time < ('17/03/2017')  order by last_update LIMIT 10\" )\n",
    "for row in c:\n",
    "    print row\n",
    "c.close()\n",
    "\n"
   ]
  },
  {
   "cell_type": "code",
   "execution_count": 156,
   "metadata": {
    "collapsed": false
   },
   "outputs": [
    {
     "data": {
      "image/png": "[encoded data removed]",
      "text/plain": [
       "<matplotlib.figure.Figure at 0x7f480aa94a90>"
      ]
     },
     "metadata": {},
     "output_type": "display_data"
    }
   ],
   "source": [
    "import numpy as np\n",
    "from numpy import ma\n",
    "%matplotlib inline\n",
    "\n",
    "\n",
    "bd = sqlite3.connect('velib2.db')\n",
    "\n",
    "c = bd.cursor()\n",
    "c.execute(\"select * from station_dyn where num = 10115 and \\\n",
    "db_write_time >= ('16/03/2017') and db_write_time < ('17/03/2017')  order by last_update\" )\n",
    "\n",
    "x=[]\n",
    "y=[]\n",
    "from datetime import datetime\n",
    "#import time\n",
    "#now = time.localtime(time.time())\n",
    "#print time.strftime(\"%d/%m/%Y-%H:%M:%S\", now)\n",
    "\n",
    "for line in c:\n",
    "    #print line[5]\n",
    "    #print datetime.strptime(line[5], \"%d/%m/%Y-%H:%M:%S\")\n",
    "\n",
    "    x.append(datetime.strptime(line[5], \"%d/%m/%Y-%H:%M:%S\"))\n",
    "    y.append(line[3])\n",
    "    \n",
    "c.close()\n",
    "\n",
    "\n",
    "plt.step(x, y, label='16/03/17')\n",
    "\n",
    "#plt.legend()\n",
    "\n",
    "plt.xlim([min(x), max(x)])\n",
    "plt.ylim([0, max(y)+1])\n",
    "\n",
    "\"\"\"x.xaxis.set_major_locator(DayLocator())\n",
    "x.xaxis.set_minor_locator(HourLocator(arange(0, 25, 6)))\n",
    "x.xaxis.set_major_formatter(DateFormatter('%Y-%m-%d'))\n",
    "x.xaxis.set_major_locator(mondays)\n",
    "x.xaxis.set_minor_locator(alldays)\n",
    "x.xaxis.set_major_formatter(weekFormatter)\n",
    "x.xaxis.set_minor_formatter(dayFormatter)\"\"\"\n",
    "\n",
    "import matplotlib.dates as mdates\n",
    "\n",
    "plt.gca().xaxis.set_major_formatter(mdates.DateFormatter('%H'))\n",
    "plt.gca().xaxis.set_major_locator(mdates.HourLocator())\n",
    "\n",
    "#plt.set_major_formatter(dayFormatter)\n",
    "\n",
    "\n",
    "plt.show()\n",
    "#fig = plt.figure()  \n",
    "#plt.savefig('test.png')\n",
    "#plt.close(fig)\n",
    "\n"
   ]
  },
  {
   "cell_type": "code",
   "execution_count": 3,
   "metadata": {
    "collapsed": false,
    "scrolled": true
   },
   "outputs": [
    {
     "data": {
      "image/png": "[encoded data removed]",
      "text/plain": [
       "<matplotlib.figure.Figure at 0x7f0038457410>"
      ]
     },
     "metadata": {},
     "output_type": "display_data"
    }
   ],
   "source": [
    "import sqlite3\n",
    "import numpy as np\n",
    "from numpy import ma\n",
    "import matplotlib.pyplot as plt\n",
    "%matplotlib inline\n",
    "\n",
    "\n",
    "bd = sqlite3.connect('velib2.db')\n",
    "\n",
    "c = bd.cursor()\n",
    "c.execute(\"select * from station_dyn where num = 10115 and \\\n",
    "db_write_time >= ('13/03/2017') and db_write_time < ('20/03/2017')  order by last_update\" )\n",
    "\n",
    "x=[]\n",
    "y=[]\n",
    "from datetime import datetime\n",
    "#import time\n",
    "#now = time.localtime(time.time())\n",
    "#print time.strftime(\"%d/%m/%Y-%H:%M:%S\", now)\n",
    "\n",
    "for line in c:\n",
    "    #print line[5]\n",
    "    #print datetime.strptime(line[5], \"%d/%m/%Y-%H:%M:%S\")\n",
    "\n",
    "    x.append(datetime.strptime(line[5], \"%d/%m/%Y-%H:%M:%S\"))\n",
    "    y.append(line[3])\n",
    "    \n",
    "c.close()\n",
    "\n",
    "\n",
    "plt.step(x, y, label='sem-11')\n",
    "\n",
    "#plt.legend()\n",
    "\n",
    "plt.xlim([min(x), max(x)])\n",
    "plt.ylim([0, max(y)+1])\n",
    "\n",
    "\"\"\"x.xaxis.set_major_locator(DayLocator())\n",
    "x.xaxis.set_minor_locator(HourLocator(arange(0, 25, 6)))\n",
    "x.xaxis.set_major_formatter(DateFormatter('%Y-%m-%d'))\n",
    "x.xaxis.set_major_locator(mondays)\n",
    "x.xaxis.set_minor_locator(alldays)\n",
    "x.xaxis.set_major_formatter(weekFormatter)\n",
    "x.xaxis.set_minor_formatter(dayFormatter)\"\"\"\n",
    "\n",
    "import matplotlib.dates as mdates\n",
    "\n",
    "plt.gca().xaxis.set_major_formatter(mdates.DateFormatter('%d-%m'))\n",
    "plt.gca().xaxis.set_major_locator(mdates.DayLocator())\n",
    "#plt.gca().xaxis.set_minor_formatter(mdates.DateFormatter('%H'))\n",
    "plt.gca().xaxis.set_minor_locator(mdates.HourLocator())\n",
    "\n",
    "#plt.set_major_formatter(dayFormatter)\n",
    "\n",
    "\n",
    "\n",
    "plt.savefig('test2.png',dpi=300)\n",
    "\n",
    "plt.show()\n",
    "#fig = plt.figure()  \n",
    "#plt.savefig('test.png')\n",
    "#plt.close(fig)\n",
    "\n"
   ]
  },
  {
   "cell_type": "code",
   "execution_count": 180,
   "metadata": {
    "collapsed": false
   },
   "outputs": [
    {
     "name": "stdout",
     "output_type": "stream",
     "text": [
      "fini\n"
     ]
    }
   ],
   "source": [
    "import sqlite3\n",
    "\n",
    "bd = sqlite3.connect('velib2.db')\n",
    "\n",
    "c = bd.cursor()\n",
    "c.execute(\"select DISTINCT num from station_dyn\" )\n",
    "\n",
    "list_station=[]\n",
    "\n",
    "for row in c:\n",
    "    list_station.append(row)\n",
    "\n",
    "for st in list_station:\n",
    "    c.execute(\"select * from station_dyn where num = \"+str(st[0])+\" and \\\n",
    "db_write_time >= ('13/03/2017') and db_write_time < ('19/03/2017')  order by last_update LIMIT 100\" )\n",
    "    \n",
    "c.close()\n",
    "\n",
    "print \"fini\"\n",
    "\n",
    "#print list_station"
   ]
  },
  {
   "cell_type": "code",
   "execution_count": 33,
   "metadata": {
    "collapsed": false
   },
   "outputs": [
    {
     "data": {
      "image/png": "[encoded data removed]",
      "text/plain": [
       "<matplotlib.figure.Figure at 0x7f480af6d450>"
      ]
     },
     "metadata": {},
     "output_type": "display_data"
    }
   ],
   "source": [
    "import numpy as np\n",
    "from numpy import ma\n",
    "\n",
    "\n",
    "%matplotlib inline\n",
    "\n",
    "x = np.arange(1, 7, 0.4)\n",
    "y0 = np.sin(x)\n",
    "y = y0.copy() + 2.5\n",
    "\n",
    "plt.step(x, y, label='pre (default)')\n",
    "\n",
    "y -= 0.5\n",
    "plt.step(x, y, where='mid', label='mid')\n",
    "\n",
    "y -= 0.5\n",
    "plt.step(x, y, where='post', label='post')\n",
    "\n",
    "y = ma.masked_where((y0 > -0.15) & (y0 < 0.15), y - 0.5)\n",
    "plt.step(x, y, label='masked (pre)')\n",
    "\n",
    "plt.legend()\n",
    "\n",
    "plt.xlim(0, 7)\n",
    "plt.ylim(-0.5, 4)\n",
    "\n",
    "plt.show()\n"
   ]
  },
  {
   "cell_type": "code",
   "execution_count": 32,
   "metadata": {
    "collapsed": false
   },
   "outputs": [
    {
     "data": {
      "text/plain": [
       "(-1, 5)"
      ]
     },
     "execution_count": 32,
     "metadata": {},
     "output_type": "execute_result"
    },
    {
     "data": {
      "image/png": "[encoded data removed]",
      "text/plain": [
       "<matplotlib.figure.Figure at 0x7f4814a48e10>"
      ]
     },
     "metadata": {},
     "output_type": "display_data"
    }
   ],
   "source": [
    "\n",
    "\n",
    "%matplotlib inline\n",
    "\n",
    "\n",
    "plt.plot(range(5), range(5), linestyle='--', drawstyle='steps')\n",
    "plt.plot(range(5), range(5)[::-1], linestyle=':', drawstyle='steps')\n",
    "plt.xlim([-1, 5])\n",
    "plt.ylim([-1, 5])"
   ]
  }
 ],
 "metadata": {
  "kernelspec": {
   "display_name": "Python 2",
   "language": "python",
   "name": "python2"
  },
  "language_info": {
   "codemirror_mode": {
    "name": "ipython",
    "version": 2
   },
   "file_extension": ".py",
   "mimetype": "text/x-python",
   "name": "python",
   "nbconvert_exporter": "python",
   "pygments_lexer": "ipython2",
   "version": "2.7.11"
  },
  "widgets": {
   "state": {},
   "version": "1.1.1"
  }
 },
 "nbformat": 4,
 "nbformat_minor": 0
}
