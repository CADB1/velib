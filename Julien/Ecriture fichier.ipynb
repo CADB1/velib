{
 "cells": [
  {
   "cell_type": "code",
   "execution_count": 10,
   "metadata": {
    "collapsed": false,
    "deletable": true,
    "editable": true
   },
   "outputs": [],
   "source": [
    "fichier = open(\"data.txt\", \"w\")\n",
    "#i=0\n",
    "for e in range(0,10):\n",
    "    #i+=1\n",
    "    retour_chariot = '\\n' if e!=0 else \"\"\n",
    "    fichier.write(retour_chariot+\"Bonjour monde\")\n",
    "fichier.close()"
   ]
  }
 ],
 "metadata": {
  "kernelspec": {
   "display_name": "Python 2",
   "language": "python",
   "name": "python2"
  },
  "language_info": {
   "codemirror_mode": {
    "name": "ipython",
    "version": 2
   },
   "file_extension": ".py",
   "mimetype": "text/x-python",
   "name": "python",
   "nbconvert_exporter": "python",
   "pygments_lexer": "ipython2",
   "version": "2.7.12"
  }
 },
 "nbformat": 4,
 "nbformat_minor": 2
}
