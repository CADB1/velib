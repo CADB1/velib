{
 "cells": [
  {
   "cell_type": "markdown",
   "metadata": {
    "deletable": true,
    "editable": true
   },
   "source": [
    "Get all files from histo into cassandra cluster"
   ]
  },
  {
   "cell_type": "code",
   "execution_count": null,
   "metadata": {
    "collapsed": false,
    "deletable": true,
    "editable": true
   },
   "outputs": [],
   "source": [
    "\n",
    "import pandas as pd\n",
    "from pathlib import Path\n",
    "\n",
    "# parse all files from histo_velib\\paris csv files and aggregate in a dataframe\n",
    "paris_part1 = Path(\"../histo_velib/challenge/part_1/paris/stations\")\n",
    "paris_part2 = Path(\"../histo_velib/challenge/part_2/paris/stations\")\n",
    "    \n",
    "def df_generator(dir):\n",
    "    if issubclass(type(dir),Path) and dir.is_dir():\n",
    "        for file in dir.iterdir():\n",
    "            # extract the velib station id from filename\n",
    "            station_id = int(file.name.split(\"-\")[0])\n",
    "            \n",
    "            # create a dataframe from csv\n",
    "            df = pd.read_csv(file)\n",
    "\n",
    "            # create a series for the station id entry in the dataframe\n",
    "            df[\"station_id\"] = pd.Series(data=[station_id for row in range(0,len(df.index))], index=df.index)\n",
    "            yield df\n",
    "\n",
    "def get_first(generator):\n",
    "    for i,df in enumerate(generator):\n",
    "        if (i == 0):\n",
    "            return df\n",
    "        \n",
    "def remove_unchanged(row):\n",
    "    return row\n",
    "\n",
    "df = get_first(df_generator(paris_part1))\n",
    "\n",
    "def convert_to_date(col,name):\n",
    "    if col.name == name:\n",
    "        return pd.to_datetime(col)\n",
    "    else:\n",
    "        return col\n",
    "\n",
    "df = df.apply(convert_to_date,args=[\"moment\"])\\\n",
    "        .set_index(\"moment\")\\\n",
    "        .sort_index()\\\n",
    "        .reset_index()\n",
    "\n",
    "#type(df.index)\n",
    "print(len(df))\n",
    "\n",
    "def filterout(row,df):\n",
    "    #print(row.name) \n",
    "    return row\n",
    "\n",
    "#for index in range(0,len(df)):\n",
    "    \n",
    "    \n",
    "df = df.head().apply(filterout,axis=1,args=[df.head()])\n",
    "df"
   ]
  },
  {
   "cell_type": "markdown",
   "metadata": {},
   "source": []
  },
  {
   "cell_type": "code",
   "execution_count": 22,
   "metadata": {
    "collapsed": false,
    "deletable": true,
    "editable": true
   },
   "outputs": [
    {
     "data": {
      "text/plain": [
       "'\\nfull_df = pd.concat([df.filter(remove_unchanged)                       .apply(convert_to_date,args=[\"moment\"])                       .set_index(moment)                      for df in df_generator(paris_part1)] )            .concat([df.filter(remove_unchanged)                       .apply(convert_to_date,args=[\"moment\"])                       .set_index(moment)                      for df in df_generator(paris_part2)] )\\nfull_df.head()\\n'"
      ]
     },
     "execution_count": 22,
     "metadata": {},
     "output_type": "execute_result"
    }
   ],
   "source": [
    "# just for the exercise : concat all dataset in a full indexed dataframe\n",
    "\"\"\"\n",
    "full_df = pd.concat([df.filter(remove_unchanged)\\\n",
    "                       .apply(convert_to_date,args=[\"moment\"])\\\n",
    "                       .set_index(moment) \\\n",
    "                     for df in df_generator(paris_part1)] )\\\n",
    "            .concat([df.filter(remove_unchanged)\\\n",
    "                       .apply(convert_to_date,args=[\"moment\"])\\\n",
    "                       .set_index(moment) \\\n",
    "                     for df in df_generator(paris_part2)] )\n",
    "full_df.head()\n",
    "\"\"\""
   ]
  },
  {
   "cell_type": "markdown",
   "metadata": {
    "deletable": true,
    "editable": true
   },
   "source": [
    "# insert data into  cassandra db \n",
    "keyspace : velib_db_test\n",
    "family: station"
   ]
  },
  {
   "cell_type": "code",
   "execution_count": 2,
   "metadata": {
    "collapsed": false,
    "deletable": true,
    "editable": true
   },
   "outputs": [],
   "source": [
    "from cassandra.cluster import Cluster\n",
    "\n",
    "cluster = Cluster([\"84.39.48.220\",\"84.39.45.143\",\"84.39.45.149\",\"84.39.48.102\"])\n",
    "session = cluster.connect(\"velib_db_test\")\n"
   ]
  },
  {
   "cell_type": "code",
   "execution_count": 3,
   "metadata": {
    "collapsed": false,
    "deletable": true,
    "editable": true,
    "scrolled": true
   },
   "outputs": [
    {
     "data": {
      "text/html": [
       "<div>\n",
       "<table border=\"1\" class=\"dataframe\">\n",
       "  <thead>\n",
       "    <tr style=\"text-align: right;\">\n",
       "      <th></th>\n",
       "      <th>moment</th>\n",
       "      <th>bikes</th>\n",
       "      <th>spaces</th>\n",
       "      <th>station_id</th>\n",
       "    </tr>\n",
       "  </thead>\n",
       "  <tbody>\n",
       "    <tr>\n",
       "      <th>0</th>\n",
       "      <td>2016-08-01 10:51:44</td>\n",
       "      <td>7</td>\n",
       "      <td>13</td>\n",
       "      <td>901</td>\n",
       "    </tr>\n",
       "    <tr>\n",
       "      <th>1</th>\n",
       "      <td>2016-08-01 11:01:58</td>\n",
       "      <td>7</td>\n",
       "      <td>13</td>\n",
       "      <td>901</td>\n",
       "    </tr>\n",
       "    <tr>\n",
       "      <th>2</th>\n",
       "      <td>2016-08-01 11:12:02</td>\n",
       "      <td>7</td>\n",
       "      <td>13</td>\n",
       "      <td>901</td>\n",
       "    </tr>\n",
       "    <tr>\n",
       "      <th>3</th>\n",
       "      <td>2016-08-01 11:14:46</td>\n",
       "      <td>6</td>\n",
       "      <td>14</td>\n",
       "      <td>901</td>\n",
       "    </tr>\n",
       "    <tr>\n",
       "      <th>4</th>\n",
       "      <td>2016-08-01 11:24:50</td>\n",
       "      <td>6</td>\n",
       "      <td>14</td>\n",
       "      <td>901</td>\n",
       "    </tr>\n",
       "  </tbody>\n",
       "</table>\n",
       "</div>"
      ],
      "text/plain": [
       "               moment  bikes  spaces  station_id\n",
       "0 2016-08-01 10:51:44      7      13         901\n",
       "1 2016-08-01 11:01:58      7      13         901\n",
       "2 2016-08-01 11:12:02      7      13         901\n",
       "3 2016-08-01 11:14:46      6      14         901\n",
       "4 2016-08-01 11:24:50      6      14         901"
      ]
     },
     "execution_count": 3,
     "metadata": {},
     "output_type": "execute_result"
    }
   ],
   "source": [
    "\n",
    "\n",
    "insert = \"INSERT INTO station (last_update, available_bikes,available_bike_stands,number) VALUES (?,?,?,?)\"\n",
    "stmt = session.prepare(insert)\n",
    "\n",
    "\n",
    "\n",
    "def df_generator(dir):\n",
    "    if issubclass(type(dir),Path) and dir.is_dir():\n",
    "        for file in dir.iterdir():\n",
    "            # extract the velib station id from filename\n",
    "            station_id = int(file.name.split(\"-\")[0])\n",
    "            \n",
    "            # create a dataframe from csv\n",
    "            df = pd.read_csv(file)\n",
    "\n",
    "            # create a series for the station id entry in the dataframe\n",
    "            df[\"station_id\"] = pd.Series(data=[station_id for row in range(0,len(df.index))], index=df.index)\n",
    "            #df.apply(convert_to_date,args=[\"moment\"])\\\n",
    "            #    .set_index(\"moment\")\\\n",
    "            #    .sort_index()\\\n",
    "            #    .reset_index()\n",
    "            yield df\n",
    "\n",
    "def prepare_station_data(df):\n",
    "    return df.apply(convert_to_date,args=[\"moment\"])\\\n",
    "                .set_index(\"moment\")\\\n",
    "                .sort_index()\\\n",
    "                .reset_index()\n",
    "            \n",
    "            \n",
    "            \n",
    "def insert_into_db(row,batch):        \n",
    "    batch.add(stmt, list(row))\n",
    "    #session.execute(stmt,list(row))\n",
    "\n",
    "# todo manage it through a batch for each station\n",
    "def ingest_dir(dir):\n",
    "    for csv in df_generator(dir):\n",
    "        # create a batch\n",
    "        batch = BatchStatement()\n",
    "        prepare_station_data(csv).apply(insert_into_db, axis=1,args=[batch])\n",
    "        yield batch\n",
    "\n",
    "test_df = get_first(df_generator(paris_part1))\n",
    "test_df = prepare_station_data(df.head())\n",
    "test_df\n",
    "\n",
    "#df.apply(lambda row: session.execute(stmt,list(row)), axis=1)\n",
    "#df.apply(insert_into_db, axis=1)\n",
    "#for station in rows:\n",
    "#    print(\" , \".join([str(station.number), str(station.position)]))"
   ]
  },
  {
   "cell_type": "code",
   "execution_count": null,
   "metadata": {
    "collapsed": false
   },
   "outputs": [],
   "source": [
    "from cassandra.query import BatchStatement\n",
    "from cassandra import ConsistencyLevel\n",
    "\n",
    "\n",
    "consistency_level=ConsistencyLevel.QUORUM\n",
    "\n",
    "\n",
    "#test_df.apply(insert_into_db, axis=1,args=[batch])\n",
    "#TODO increase the execution time_out\n",
    "\n",
    "\n",
    "# execute all batch/station for the first part\n",
    "for batch in ingest_dir(paris_part1):\n",
    "    session.execute(batch)\n",
    "\n",
    "# execute all batch/station for the second part    \n",
    "for batch in ingest_dir(paris_part2):\n",
    "    session.execute(batch)\n",
    " \n"
   ]
  },
  {
   "cell_type": "code",
   "execution_count": 30,
   "metadata": {
    "collapsed": false,
    "deletable": true,
    "editable": true
   },
   "outputs": [],
   "source": [
    "from cassandra.query import dict_factory\n",
    "from cassandra.query import tuple_factory\n",
    "\n",
    "session.raw_factory = tuple_factory\n",
    "#res = session.execute(\"select * from station\")\n",
    "\n",
    "\n",
    "#for r in res:\n",
    "#    print(\"|\".join(map(str,r)))\n"
   ]
  },
  {
   "cell_type": "code",
   "execution_count": null,
   "metadata": {
    "collapsed": true
   },
   "outputs": [],
   "source": []
  }
 ],
 "metadata": {
  "anaconda-cloud": {},
  "kernelspec": {
   "display_name": "Python [default]",
   "language": "python",
   "name": "python3"
  },
  "language_info": {
   "codemirror_mode": {
    "name": "ipython",
    "version": 3
   },
   "file_extension": ".py",
   "mimetype": "text/x-python",
   "name": "python",
   "nbconvert_exporter": "python",
   "pygments_lexer": "ipython3",
   "version": "3.5.2"
  }
 },
 "nbformat": 4,
 "nbformat_minor": 1
}
