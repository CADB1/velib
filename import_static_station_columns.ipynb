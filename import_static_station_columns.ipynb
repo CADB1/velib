{
 "cells": [
  {
   "cell_type": "markdown",
   "metadata": {},
   "source": [
    "# Structure de la table des stations au départ\n",
    "\n",
    "```CQL\n",
    "CREATE KEYSPACE velib_db WITH replication = {'class': 'SimpleStrategy', 'replication_factor': '2'}  AND durable_writes = true;\n",
    "\n",
    "CREATE TABLE velib_db.station_dynamique (\n",
    "    number int,\n",
    "    moment timestamp,\n",
    "    bikes int,\n",
    "    spaces int,\n",
    "    PRIMARY KEY (number, moment)\n",
    ") WITH CLUSTERING ORDER BY (moment ASC)\n",
    "    AND bloom_filter_fp_chance = 0.01\n",
    "    AND caching = {'keys': 'ALL', 'rows_per_partition': 'NONE'}\n",
    "    AND comment = ''\n",
    "    AND compaction = {'class': 'org.apache.cassandra.db.compaction.SizeTieredCompactionStrategy', 'max_threshold': '32', 'min_threshold': '4'}\n",
    "    AND compression = {'chunk_length_in_kb': '64', 'class': 'org.apache.cassandra.io.compress.LZ4Compressor'}\n",
    "    AND crc_check_chance = 1.0\n",
    "    AND dclocal_read_repair_chance = 0.1\n",
    "    AND default_time_to_live = 0\n",
    "    AND gc_grace_seconds = 864000\n",
    "    AND max_index_interval = 2048\n",
    "    AND memtable_flush_period_in_ms = 0\n",
    "    AND min_index_interval = 128\n",
    "    AND read_repair_chance = 0.0\n",
    "    AND speculative_retry = '99PERCENTILE';\n",
    "```"
   ]
  },
  {
   "cell_type": "code",
   "execution_count": 18,
   "metadata": {
    "collapsed": true
   },
   "outputs": [],
   "source": [
    "from cassandra.cluster import Cluster\n",
    "\n",
    "keyspace = \"velib_db\"\n",
    "family = \"station_dynamique\"\n",
    "\n",
    "cluster = Cluster([\"84.39.48.220\",\"84.39.45.143\",\"84.39.45.149\",\"84.39.48.102\"])\n",
    "session = cluster.connect(keyspace)"
   ]
  },
  {
   "cell_type": "markdown",
   "metadata": {},
   "source": [
    "# add static columns to the stations table"
   ]
  },
  {
   "cell_type": "code",
   "execution_count": 19,
   "metadata": {
    "collapsed": false
   },
   "outputs": [],
   "source": [
    "from cassandra.query import dict_factory\n",
    "from cassandra.query import tuple_factory\n",
    "\n",
    "\n",
    "add_static_column_query = \"ALTER TABLE {table} ADD {column} {type} STATIC\"\n",
    "\n",
    "columns = [\"name\",\"address\",\"longitude\",\"latitude\",\"banking\",\"bonus\",\"status\",\"bike_stands\",\"isolation_factor\",\"owm_city_id\"]\n",
    "types = [\"text\",\"text\",\"double\",\"double\",\"boolean\",\"boolean\",\"text\",\"int\",\"int\",\"bigint\"]\n",
    "\n",
    "\n",
    "for col_name,col_type in zip(columns,types):\n",
    "    try:\n",
    "        session.execute(add_static_column_query.format(table=family, column=col_name,type=col_type))\n",
    "    except:\n",
    "        print(col_name + \" is probably already defined\")\n"
   ]
  },
  {
   "cell_type": "markdown",
   "metadata": {},
   "source": [
    "# structure de la base avec les colonnes statiques\n",
    "```CQL\n",
    "CREATE TABLE velib_db.station_dynamique (\n",
    "    number int,\n",
    "    moment timestamp,\n",
    "    address text static,\n",
    "    banking boolean static,\n",
    "    bike_stands int static,\n",
    "    bikes int,\n",
    "    bonus boolean static,\n",
    "    isolation_factor int static,\n",
    "    latitude double static,\n",
    "    longitude double static,\n",
    "    name text static,\n",
    "    owm_city_id bigint static,\n",
    "    spaces int,\n",
    "    status text static,\n",
    "    PRIMARY KEY (number, moment)\n",
    ") WITH CLUSTERING ORDER BY (moment ASC)\n",
    "    AND bloom_filter_fp_chance = 0.01\n",
    "    AND caching = {'keys': 'ALL', 'rows_per_partition': 'NONE'}\n",
    "    AND comment = ''\n",
    "    AND compaction = {'class': 'org.apache.cassandra.db.compaction.SizeTieredCompactionStrategy', 'max_threshold': '32', 'min_threshold': '4'}\n",
    "    AND compression = {'chunk_length_in_kb': '64', 'class': 'org.apache.cassandra.io.compress.LZ4Compressor'}\n",
    "    AND crc_check_chance = 1.0\n",
    "    AND dclocal_read_repair_chance = 0.1\n",
    "    AND default_time_to_live = 0\n",
    "    AND gc_grace_seconds = 864000\n",
    "    AND max_index_interval = 2048\n",
    "    AND memtable_flush_period_in_ms = 0\n",
    "    AND min_index_interval = 128\n",
    "    AND read_repair_chance = 0.0\n",
    "    AND speculative_retry = '99PERCENTILE';\n",
    "```"
   ]
  },
  {
   "cell_type": "markdown",
   "metadata": {},
   "source": [
    "### import static data from previously exported stations csv file (from /data/static/stations.csv)"
   ]
  },
  {
   "cell_type": "code",
   "execution_count": 20,
   "metadata": {
    "collapsed": false
   },
   "outputs": [],
   "source": [
    "import pandas as pd\n",
    "\n",
    "stations = pd.read_csv(\"data/static/stations.csv\"\\\n",
    "                       ,sep=';'\n",
    "                      #,dtype={\"bike_stands\":np.int32,\"isolation_factor\":np.int32,\"owm_city_id\":np.int32}\\\n",
    "                      #,converters= {\"isolation_factor\":np.int32}\\\n",
    "                      # ,na_filter = False\\\n",
    "                      )\n",
    "\n",
    "\n",
    "cols_to_int = [\"bike_stands\",\"isolation_factor\",\"owm_city_id\"]\n",
    "\n",
    "def convert_to_int(col,cols):\n",
    "    if col.name in cols:\n",
    "        return col.astype(int)\n",
    "    else:\n",
    "        return col\n",
    "\n",
    "stations = stations.loc[:,[\"number\"] + columns]\n",
    "                   #.apply(convert_to_int,args=[cols_to_int])\\\n",
    "                   \n",
    "\n",
    "update_stations_cql = \"UPDATE {table} SET {values} WHERE number = {station}\"\n",
    "    \n",
    "\n",
    "def update_reqs(row,batch):\n",
    "    value_str = \"{key}={quote}{value}{quote},\"\n",
    "    values = \"\"\n",
    "    for key,value in zip(row.index[1:],row.values[1:]):\n",
    "        quote = ''\n",
    "        if isinstance(value,str):\n",
    "            quote = \"\\'\"\n",
    "            # escape all ' in CQL with a ''\n",
    "            value = value.replace(\"'\",\"''\")\n",
    "        values += value_str.format(key=key,quote=quote,value=value)\n",
    "    \n",
    "    #return update_stations_cql.format(table=family,values = values[:-1] ,station = int(row[\"number\"]),axis=1)\n",
    "    batch.add(update_stations_cql.format(table=family,values = values[:-1] ,station = int(row[\"number\"]),axis=1))\n",
    "\n",
    "#reqs = stations.apply(update_reqs,axis=1,args=[batch] )\n",
    "#reqs[1]\n",
    "\n",
    "#filter on n/a values in a dataframe\n",
    "#stations[stations.isnull().any(axis=1)]\n"
   ]
  },
  {
   "cell_type": "markdown",
   "metadata": {},
   "source": [
    "### Build the batch statement"
   ]
  },
  {
   "cell_type": "code",
   "execution_count": 21,
   "metadata": {
    "collapsed": false
   },
   "outputs": [
    {
     "data": {
      "text/plain": [
       "<BatchStatement type=LOGGED, statements=1225, consistency=ANY>"
      ]
     },
     "execution_count": 21,
     "metadata": {},
     "output_type": "execute_result"
    }
   ],
   "source": [
    "from cassandra.query import BatchStatement\n",
    "from cassandra import ConsistencyLevel\n",
    "\n",
    "batch = BatchStatement(consistency_level=ConsistencyLevel.ANY)\n",
    "\n",
    "# fill the batch with all updates\n",
    "stations.apply(update_reqs,axis=1,args=[batch] )\n",
    "\n",
    "batch\n"
   ]
  },
  {
   "cell_type": "markdown",
   "metadata": {},
   "source": [
    "Execute batch statement"
   ]
  },
  {
   "cell_type": "code",
   "execution_count": 22,
   "metadata": {
    "collapsed": false
   },
   "outputs": [
    {
     "data": {
      "text/plain": [
       "<cassandra.cluster.ResultSet at 0x273aa23ba90>"
      ]
     },
     "execution_count": 22,
     "metadata": {},
     "output_type": "execute_result"
    }
   ],
   "source": [
    "session.execute(batch)"
   ]
  }
 ],
 "metadata": {
  "anaconda-cloud": {},
  "kernelspec": {
   "display_name": "Python [default]",
   "language": "python",
   "name": "python3"
  },
  "language_info": {
   "codemirror_mode": {
    "name": "ipython",
    "version": 3
   },
   "file_extension": ".py",
   "mimetype": "text/x-python",
   "name": "python",
   "nbconvert_exporter": "python",
   "pygments_lexer": "ipython3",
   "version": "3.5.2"
  }
 },
 "nbformat": 4,
 "nbformat_minor": 1
}
